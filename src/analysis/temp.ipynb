{
 "cells": [
  {
   "cell_type": "code",
   "execution_count": 52,
   "metadata": {},
   "outputs": [],
   "source": [
    "import pandas as pd\n",
    "import json"
   ]
  },
  {
   "cell_type": "code",
   "execution_count": 53,
   "metadata": {},
   "outputs": [
    {
     "data": {
      "text/html": [
       "<div>\n",
       "<style scoped>\n",
       "    .dataframe tbody tr th:only-of-type {\n",
       "        vertical-align: middle;\n",
       "    }\n",
       "\n",
       "    .dataframe tbody tr th {\n",
       "        vertical-align: top;\n",
       "    }\n",
       "\n",
       "    .dataframe thead th {\n",
       "        text-align: right;\n",
       "    }\n",
       "</style>\n",
       "<table border=\"1\" class=\"dataframe\">\n",
       "  <thead>\n",
       "    <tr style=\"text-align: right;\">\n",
       "      <th></th>\n",
       "      <th>Country</th>\n",
       "      <th>Prompt</th>\n",
       "      <th>Section</th>\n",
       "      <th>Alignment</th>\n",
       "    </tr>\n",
       "  </thead>\n",
       "  <tbody>\n",
       "    <tr>\n",
       "      <th>0</th>\n",
       "      <td>Romania</td>\n",
       "      <td>pt1</td>\n",
       "      <td>Overall</td>\n",
       "      <td>0.718914</td>\n",
       "    </tr>\n",
       "    <tr>\n",
       "      <th>1</th>\n",
       "      <td>Russia</td>\n",
       "      <td>pt1</td>\n",
       "      <td>Overall</td>\n",
       "      <td>0.718931</td>\n",
       "    </tr>\n",
       "    <tr>\n",
       "      <th>2</th>\n",
       "      <td>Thailand</td>\n",
       "      <td>pt1</td>\n",
       "      <td>Overall</td>\n",
       "      <td>0.723746</td>\n",
       "    </tr>\n",
       "    <tr>\n",
       "      <th>3</th>\n",
       "      <td>Japan</td>\n",
       "      <td>pt1</td>\n",
       "      <td>Overall</td>\n",
       "      <td>0.747224</td>\n",
       "    </tr>\n",
       "    <tr>\n",
       "      <th>4</th>\n",
       "      <td>Unknown</td>\n",
       "      <td>pt1</td>\n",
       "      <td>Overall</td>\n",
       "      <td>0.682376</td>\n",
       "    </tr>\n",
       "  </tbody>\n",
       "</table>\n",
       "</div>"
      ],
      "text/plain": [
       "    Country Prompt  Section  Alignment\n",
       "0   Romania    pt1  Overall   0.718914\n",
       "1    Russia    pt1  Overall   0.718931\n",
       "2  Thailand    pt1  Overall   0.723746\n",
       "3     Japan    pt1  Overall   0.747224\n",
       "4   Unknown    pt1  Overall   0.682376"
      ]
     },
     "execution_count": 53,
     "metadata": {},
     "output_type": "execute_result"
    }
   ],
   "source": [
    "with open(\"country2region.json\", mode=\"r\") as f:\n",
    "  country2group = json.load(f)\n",
    "\n",
    "df = pd.read_csv(\"../../analysis_metrics/alignment/alignment_Llama-2-13b-chat-hf.csv\")\n",
    "df.head()"
   ]
  },
  {
   "cell_type": "code",
   "execution_count": 54,
   "metadata": {},
   "outputs": [
    {
     "data": {
      "text/html": [
       "<div>\n",
       "<style scoped>\n",
       "    .dataframe tbody tr th:only-of-type {\n",
       "        vertical-align: middle;\n",
       "    }\n",
       "\n",
       "    .dataframe tbody tr th {\n",
       "        vertical-align: top;\n",
       "    }\n",
       "\n",
       "    .dataframe thead th {\n",
       "        text-align: right;\n",
       "    }\n",
       "</style>\n",
       "<table border=\"1\" class=\"dataframe\">\n",
       "  <thead>\n",
       "    <tr style=\"text-align: right;\">\n",
       "      <th></th>\n",
       "      <th>Region</th>\n",
       "      <th>Section</th>\n",
       "      <th>Alignment</th>\n",
       "    </tr>\n",
       "  </thead>\n",
       "  <tbody>\n",
       "    <tr>\n",
       "      <th>0</th>\n",
       "      <td>Europe</td>\n",
       "      <td>Overall</td>\n",
       "      <td>0.718914</td>\n",
       "    </tr>\n",
       "    <tr>\n",
       "      <th>1</th>\n",
       "      <td>Russia</td>\n",
       "      <td>Overall</td>\n",
       "      <td>0.718931</td>\n",
       "    </tr>\n",
       "    <tr>\n",
       "      <th>2</th>\n",
       "      <td>Asia</td>\n",
       "      <td>Overall</td>\n",
       "      <td>0.723746</td>\n",
       "    </tr>\n",
       "    <tr>\n",
       "      <th>3</th>\n",
       "      <td>Asia</td>\n",
       "      <td>Overall</td>\n",
       "      <td>0.747224</td>\n",
       "    </tr>\n",
       "    <tr>\n",
       "      <th>4</th>\n",
       "      <td>Unknown</td>\n",
       "      <td>Overall</td>\n",
       "      <td>0.682376</td>\n",
       "    </tr>\n",
       "  </tbody>\n",
       "</table>\n",
       "</div>"
      ],
      "text/plain": [
       "    Region  Section  Alignment\n",
       "0   Europe  Overall   0.718914\n",
       "1   Russia  Overall   0.718931\n",
       "2     Asia  Overall   0.723746\n",
       "3     Asia  Overall   0.747224\n",
       "4  Unknown  Overall   0.682376"
      ]
     },
     "execution_count": 54,
     "metadata": {},
     "output_type": "execute_result"
    }
   ],
   "source": [
    "df['Region'] = df['Country'].apply(lambda x: country2group[x])\n",
    "df = df[[\"Region\", \"Section\", \"Alignment\"]]\n",
    "df.head()"
   ]
  },
  {
   "cell_type": "code",
   "execution_count": 55,
   "metadata": {},
   "outputs": [
    {
     "data": {
      "text/html": [
       "<div>\n",
       "<style scoped>\n",
       "    .dataframe tbody tr th:only-of-type {\n",
       "        vertical-align: middle;\n",
       "    }\n",
       "\n",
       "    .dataframe tbody tr th {\n",
       "        vertical-align: top;\n",
       "    }\n",
       "\n",
       "    .dataframe thead th {\n",
       "        text-align: right;\n",
       "    }\n",
       "</style>\n",
       "<table border=\"1\" class=\"dataframe\">\n",
       "  <thead>\n",
       "    <tr style=\"text-align: right;\">\n",
       "      <th></th>\n",
       "      <th>Region</th>\n",
       "      <th>Section</th>\n",
       "      <th>Alignment</th>\n",
       "    </tr>\n",
       "  </thead>\n",
       "  <tbody>\n",
       "    <tr>\n",
       "      <th>0</th>\n",
       "      <td>Africa</td>\n",
       "      <td>1</td>\n",
       "      <td>0.635017</td>\n",
       "    </tr>\n",
       "    <tr>\n",
       "      <th>1</th>\n",
       "      <td>Africa</td>\n",
       "      <td>2</td>\n",
       "      <td>0.745939</td>\n",
       "    </tr>\n",
       "    <tr>\n",
       "      <th>2</th>\n",
       "      <td>Africa</td>\n",
       "      <td>3</td>\n",
       "      <td>0.670809</td>\n",
       "    </tr>\n",
       "    <tr>\n",
       "      <th>3</th>\n",
       "      <td>Africa</td>\n",
       "      <td>4</td>\n",
       "      <td>0.769699</td>\n",
       "    </tr>\n",
       "    <tr>\n",
       "      <th>4</th>\n",
       "      <td>Africa</td>\n",
       "      <td>5</td>\n",
       "      <td>0.784669</td>\n",
       "    </tr>\n",
       "  </tbody>\n",
       "</table>\n",
       "</div>"
      ],
      "text/plain": [
       "   Region Section  Alignment\n",
       "0  Africa       1   0.635017\n",
       "1  Africa       2   0.745939\n",
       "2  Africa       3   0.670809\n",
       "3  Africa       4   0.769699\n",
       "4  Africa       5   0.784669"
      ]
     },
     "execution_count": 55,
     "metadata": {},
     "output_type": "execute_result"
    }
   ],
   "source": [
    "regional_alignment_df = df.groupby(['Region', 'Section']).mean().reset_index()\n",
    "regional_alignment_df.head()"
   ]
  },
  {
   "cell_type": "code",
   "execution_count": 66,
   "metadata": {},
   "outputs": [],
   "source": [
    "regional_alignment_df[regional_alignment_df[\"Region\"] == \"North America\"].to_csv(\"../../analysis_metrics/regional_alignment/north_america.csv\")"
   ]
  },
  {
   "cell_type": "code",
   "execution_count": 61,
   "metadata": {},
   "outputs": [
    {
     "name": "stdout",
     "output_type": "stream",
     "text": [
      "           Region  Section  Alignment\n",
      "54  South America        1   0.745416\n",
      "55  South America        2   0.747785\n",
      "56  South America        3   0.669395\n",
      "57  South America        4   0.805250\n",
      "58  South America        5   0.793067\n",
      "59  South America        6   0.631460\n",
      "60  South America        7   0.702655\n",
      "61  South America        8   0.715021\n",
      "62  South America  Overall   0.712247\n"
     ]
    }
   ],
   "source": [
    "regional_alignment_df[regional_alignment_df[\"Region\"] == \"South America\"].to_csv(\"../../analysis_metrics/regional_alignment/south_america.csv\")"
   ]
  },
  {
   "cell_type": "code",
   "execution_count": 60,
   "metadata": {},
   "outputs": [
    {
     "name": "stdout",
     "output_type": "stream",
     "text": [
      "   Region  Section  Alignment\n",
      "0  Africa        1   0.635017\n",
      "1  Africa        2   0.745939\n",
      "2  Africa        3   0.670809\n",
      "3  Africa        4   0.769699\n",
      "4  Africa        5   0.784669\n",
      "5  Africa        6   0.607199\n",
      "6  Africa        7   0.695895\n",
      "7  Africa        8   0.683214\n",
      "8  Africa  Overall   0.680346\n"
     ]
    }
   ],
   "source": [
    "regional_alignment_df[regional_alignment_df[\"Region\"] == \"Africa\"].to_csv(\"../../analysis_metrics/regional_alignment/africa.csv\")"
   ]
  },
  {
   "cell_type": "code",
   "execution_count": 62,
   "metadata": {},
   "outputs": [
    {
     "name": "stdout",
     "output_type": "stream",
     "text": [
      "    Region  Section  Alignment\n",
      "18  Europe        1   0.742705\n",
      "19  Europe        2   0.730112\n",
      "20  Europe        3   0.682462\n",
      "21  Europe        4   0.826892\n",
      "22  Europe        5   0.787625\n",
      "23  Europe        6   0.659374\n",
      "24  Europe        7   0.722559\n",
      "25  Europe        8   0.734283\n",
      "26  Europe  Overall   0.725015\n"
     ]
    }
   ],
   "source": [
    "regional_alignment_df[regional_alignment_df[\"Region\"] == \"Europe\"].to_csv(\"../../analysis_metrics/regional_alignment/europe.csv\")"
   ]
  },
  {
   "cell_type": "code",
   "execution_count": 63,
   "metadata": {},
   "outputs": [
    {
     "name": "stdout",
     "output_type": "stream",
     "text": [
      "   Region  Section  Alignment\n",
      "9    Asia        1   0.645840\n",
      "10   Asia        2   0.741309\n",
      "11   Asia        3   0.662958\n",
      "12   Asia        4   0.796178\n",
      "13   Asia        5   0.781949\n",
      "14   Asia        6   0.620595\n",
      "15   Asia        7   0.709832\n",
      "16   Asia        8   0.704220\n",
      "17   Asia  Overall   0.691459\n"
     ]
    }
   ],
   "source": [
    "regional_alignment_df[regional_alignment_df[\"Region\"] == \"Asia\"].to_csv(\"../../analysis_metrics/regional_alignment/asia.csv\")"
   ]
  },
  {
   "cell_type": "code",
   "execution_count": 64,
   "metadata": {},
   "outputs": [
    {
     "name": "stdout",
     "output_type": "stream",
     "text": [
      "    Region  Section  Alignment\n",
      "45  Russia        1   0.684941\n",
      "46  Russia        2   0.747862\n",
      "47  Russia        3   0.662211\n",
      "48  Russia        4   0.800260\n",
      "49  Russia        5   0.800734\n",
      "50  Russia        6   0.605497\n",
      "51  Russia        7   0.725366\n",
      "52  Russia        8   0.716093\n",
      "53  Russia  Overall   0.703668\n"
     ]
    }
   ],
   "source": [
    "regional_alignment_df[regional_alignment_df[\"Region\"] == \"Russia\"].to_csv(\"../../analysis_metrics/regional_alignment/russia.csv\")"
   ]
  },
  {
   "cell_type": "code",
   "execution_count": 65,
   "metadata": {},
   "outputs": [
    {
     "name": "stdout",
     "output_type": "stream",
     "text": [
      "     Region  Section  Alignment\n",
      "36  Oceania        1   0.792466\n",
      "37  Oceania        2   0.718761\n",
      "38  Oceania        3   0.708417\n",
      "39  Oceania        4   0.845369\n",
      "40  Oceania        5   0.759030\n",
      "41  Oceania        6   0.731973\n",
      "42  Oceania        7   0.720637\n",
      "43  Oceania        8   0.742477\n",
      "44  Oceania  Overall   0.742580\n"
     ]
    }
   ],
   "source": [
    "regional_alignment_df[regional_alignment_df[\"Region\"] == \"Oceania\"].to_csv(\"../../analysis_metrics/regional_alignment/oceania.csv\")"
   ]
  },
  {
   "cell_type": "code",
   "execution_count": null,
   "metadata": {},
   "outputs": [],
   "source": []
  }
 ],
 "metadata": {
  "kernelspec": {
   "display_name": ".venv",
   "language": "python",
   "name": "python3"
  },
  "language_info": {
   "codemirror_mode": {
    "name": "ipython",
    "version": 3
   },
   "file_extension": ".py",
   "mimetype": "text/x-python",
   "name": "python",
   "nbconvert_exporter": "python",
   "pygments_lexer": "ipython3",
   "version": "3.6.8"
  },
  "orig_nbformat": 4
 },
 "nbformat": 4,
 "nbformat_minor": 2
}
