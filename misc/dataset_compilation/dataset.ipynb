{
 "cells": [
  {
   "cell_type": "code",
   "execution_count": 2,
   "metadata": {},
   "outputs": [],
   "source": [
    "import pandas as pd\n",
    "from datasets import load_dataset\n",
    "from IPython.display import clear_output"
   ]
  },
  {
   "attachments": {},
   "cell_type": "markdown",
   "metadata": {},
   "source": [
    "## Load Global Opinions Dataset (GAS & WVS)"
   ]
  },
  {
   "cell_type": "code",
   "execution_count": 3,
   "metadata": {},
   "outputs": [
    {
     "name": "stderr",
     "output_type": "stream",
     "text": [
      "Using custom data configuration Anthropic--llm_global_opinions-d7a443c39b515928\n",
      "Reusing dataset csv (/home/mehars/.cache/huggingface/datasets/Anthropic___csv/Anthropic--llm_global_opinions-d7a443c39b515928/0.0.0/652c3096f041ee27b04d2232d41f10547a8fecda3e284a79a0ec4053c916ef7a)\n",
      "100%|██████████| 1/1 [00:00<00:00, 10.63it/s]\n"
     ]
    }
   ],
   "source": [
    "dataset = load_dataset(\"Anthropic/llm_global_opinions\")\n",
    "df = pd.DataFrame(dataset['train'])"
   ]
  },
  {
   "cell_type": "code",
   "execution_count": 4,
   "metadata": {},
   "outputs": [
    {
     "data": {
      "text/html": [
       "<div>\n",
       "<style scoped>\n",
       "    .dataframe tbody tr th:only-of-type {\n",
       "        vertical-align: middle;\n",
       "    }\n",
       "\n",
       "    .dataframe tbody tr th {\n",
       "        vertical-align: top;\n",
       "    }\n",
       "\n",
       "    .dataframe thead th {\n",
       "        text-align: right;\n",
       "    }\n",
       "</style>\n",
       "<table border=\"1\" class=\"dataframe\">\n",
       "  <thead>\n",
       "    <tr style=\"text-align: right;\">\n",
       "      <th></th>\n",
       "      <th>question</th>\n",
       "      <th>selections</th>\n",
       "      <th>options</th>\n",
       "      <th>source</th>\n",
       "    </tr>\n",
       "  </thead>\n",
       "  <tbody>\n",
       "    <tr>\n",
       "      <th>0</th>\n",
       "      <td>When it comes to Germany’s decision-making in ...</td>\n",
       "      <td>defaultdict(&lt;class 'list'&gt;, {'Belgium': [0.21,...</td>\n",
       "      <td>['Has too much influence', 'Has too little inf...</td>\n",
       "      <td>GAS</td>\n",
       "    </tr>\n",
       "    <tr>\n",
       "      <th>1</th>\n",
       "      <td>Please tell me if you have a very favorable, s...</td>\n",
       "      <td>defaultdict(&lt;class 'list'&gt;, {'Sweden': [0.06, ...</td>\n",
       "      <td>['Very favorable', 'Somewhat favorable', 'Some...</td>\n",
       "      <td>GAS</td>\n",
       "    </tr>\n",
       "    <tr>\n",
       "      <th>2</th>\n",
       "      <td>Which statement comes closer to your own views...</td>\n",
       "      <td>defaultdict(&lt;class 'list'&gt;, {'Australia': [0.0...</td>\n",
       "      <td>['Using overwhelming military force is the bes...</td>\n",
       "      <td>GAS</td>\n",
       "    </tr>\n",
       "    <tr>\n",
       "      <th>3</th>\n",
       "      <td>Do you think China will replace the U.S. as th...</td>\n",
       "      <td>defaultdict(&lt;class 'list'&gt;, {'China (Non-natio...</td>\n",
       "      <td>['Next 10 years', 'Next 20 years', 'Next 50 ye...</td>\n",
       "      <td>GAS</td>\n",
       "    </tr>\n",
       "    <tr>\n",
       "      <th>4</th>\n",
       "      <td>In your opinion, how strong a sense of Islamic...</td>\n",
       "      <td>defaultdict(&lt;class 'list'&gt;, {'Britain': [0.348...</td>\n",
       "      <td>['Very strong', 'Fairly strong', 'Not too stro...</td>\n",
       "      <td>GAS</td>\n",
       "    </tr>\n",
       "    <tr>\n",
       "      <th>...</th>\n",
       "      <td>...</td>\n",
       "      <td>...</td>\n",
       "      <td>...</td>\n",
       "      <td>...</td>\n",
       "    </tr>\n",
       "    <tr>\n",
       "      <th>2551</th>\n",
       "      <td>In which of the following things do you believ...</td>\n",
       "      <td>defaultdict(&lt;class 'list'&gt;, {'Albania': [0.539...</td>\n",
       "      <td>['Yes', 'No', \"Don't know\", 'No answer', 'Othe...</td>\n",
       "      <td>WVS</td>\n",
       "    </tr>\n",
       "    <tr>\n",
       "      <th>2552</th>\n",
       "      <td>How have your perceptions about religious valu...</td>\n",
       "      <td>defaultdict(&lt;class 'list'&gt;, {'Puerto Rico': [0...</td>\n",
       "      <td>['A lot', 'Fairly', 'Little', 'Nothing', 'No a...</td>\n",
       "      <td>WVS</td>\n",
       "    </tr>\n",
       "    <tr>\n",
       "      <th>2553</th>\n",
       "      <td>Do you agree, disagree or neither agree nor di...</td>\n",
       "      <td>defaultdict(&lt;class 'list'&gt;, {'Albania': [0.665...</td>\n",
       "      <td>['Agree', 'Disagree', 'Neither agree nor disag...</td>\n",
       "      <td>WVS</td>\n",
       "    </tr>\n",
       "    <tr>\n",
       "      <th>2554</th>\n",
       "      <td>Our society is well integrated</td>\n",
       "      <td>defaultdict(&lt;class 'list'&gt;, {'South Korea': [0...</td>\n",
       "      <td>['Not integrated at all', '2', '3', '4', '5', ...</td>\n",
       "      <td>WVS</td>\n",
       "    </tr>\n",
       "    <tr>\n",
       "      <th>2555</th>\n",
       "      <td>Here are two statements people sometimes make ...</td>\n",
       "      <td>defaultdict(&lt;class 'list'&gt;, {'Albania': [0.542...</td>\n",
       "      <td>['Protecting environment', 'Economy growth and...</td>\n",
       "      <td>WVS</td>\n",
       "    </tr>\n",
       "  </tbody>\n",
       "</table>\n",
       "<p>2556 rows × 4 columns</p>\n",
       "</div>"
      ],
      "text/plain": [
       "                                               question  \\\n",
       "0     When it comes to Germany’s decision-making in ...   \n",
       "1     Please tell me if you have a very favorable, s...   \n",
       "2     Which statement comes closer to your own views...   \n",
       "3     Do you think China will replace the U.S. as th...   \n",
       "4     In your opinion, how strong a sense of Islamic...   \n",
       "...                                                 ...   \n",
       "2551  In which of the following things do you believ...   \n",
       "2552  How have your perceptions about religious valu...   \n",
       "2553  Do you agree, disagree or neither agree nor di...   \n",
       "2554                     Our society is well integrated   \n",
       "2555  Here are two statements people sometimes make ...   \n",
       "\n",
       "                                             selections  \\\n",
       "0     defaultdict(<class 'list'>, {'Belgium': [0.21,...   \n",
       "1     defaultdict(<class 'list'>, {'Sweden': [0.06, ...   \n",
       "2     defaultdict(<class 'list'>, {'Australia': [0.0...   \n",
       "3     defaultdict(<class 'list'>, {'China (Non-natio...   \n",
       "4     defaultdict(<class 'list'>, {'Britain': [0.348...   \n",
       "...                                                 ...   \n",
       "2551  defaultdict(<class 'list'>, {'Albania': [0.539...   \n",
       "2552  defaultdict(<class 'list'>, {'Puerto Rico': [0...   \n",
       "2553  defaultdict(<class 'list'>, {'Albania': [0.665...   \n",
       "2554  defaultdict(<class 'list'>, {'South Korea': [0...   \n",
       "2555  defaultdict(<class 'list'>, {'Albania': [0.542...   \n",
       "\n",
       "                                                options source  \n",
       "0     ['Has too much influence', 'Has too little inf...    GAS  \n",
       "1     ['Very favorable', 'Somewhat favorable', 'Some...    GAS  \n",
       "2     ['Using overwhelming military force is the bes...    GAS  \n",
       "3     ['Next 10 years', 'Next 20 years', 'Next 50 ye...    GAS  \n",
       "4     ['Very strong', 'Fairly strong', 'Not too stro...    GAS  \n",
       "...                                                 ...    ...  \n",
       "2551  ['Yes', 'No', \"Don't know\", 'No answer', 'Othe...    WVS  \n",
       "2552  ['A lot', 'Fairly', 'Little', 'Nothing', 'No a...    WVS  \n",
       "2553  ['Agree', 'Disagree', 'Neither agree nor disag...    WVS  \n",
       "2554  ['Not integrated at all', '2', '3', '4', '5', ...    WVS  \n",
       "2555  ['Protecting environment', 'Economy growth and...    WVS  \n",
       "\n",
       "[2556 rows x 4 columns]"
      ]
     },
     "execution_count": 4,
     "metadata": {},
     "output_type": "execute_result"
    }
   ],
   "source": [
    "df"
   ]
  },
  {
   "attachments": {},
   "cell_type": "markdown",
   "metadata": {},
   "source": [
    "## Filter for WVS"
   ]
  },
  {
   "cell_type": "code",
   "execution_count": 6,
   "metadata": {},
   "outputs": [
    {
     "name": "stdout",
     "output_type": "stream",
     "text": [
      "353\n"
     ]
    }
   ],
   "source": [
    "df_wvs = df[df[\"source\"] == \"WVS\"]\n",
    "print(len(df_wvs))"
   ]
  },
  {
   "cell_type": "code",
   "execution_count": 5,
   "metadata": {},
   "outputs": [
    {
     "data": {
      "text/html": [
       "<div>\n",
       "<style scoped>\n",
       "    .dataframe tbody tr th:only-of-type {\n",
       "        vertical-align: middle;\n",
       "    }\n",
       "\n",
       "    .dataframe tbody tr th {\n",
       "        vertical-align: top;\n",
       "    }\n",
       "\n",
       "    .dataframe thead th {\n",
       "        text-align: right;\n",
       "    }\n",
       "</style>\n",
       "<table border=\"1\" class=\"dataframe\">\n",
       "  <thead>\n",
       "    <tr style=\"text-align: right;\">\n",
       "      <th></th>\n",
       "      <th>question</th>\n",
       "      <th>selections</th>\n",
       "      <th>options</th>\n",
       "      <th>source</th>\n",
       "    </tr>\n",
       "  </thead>\n",
       "  <tbody>\n",
       "    <tr>\n",
       "      <th>2203</th>\n",
       "      <td>How satisfied are you with the following?\\n\\nT...</td>\n",
       "      <td>defaultdict(&lt;class 'list'&gt;, {'Iraq': [0.288000...</td>\n",
       "      <td>['Completely dissatisfied', 'Rather dissatisfi...</td>\n",
       "      <td>WVS</td>\n",
       "    </tr>\n",
       "    <tr>\n",
       "      <th>2204</th>\n",
       "      <td>Please tell us if you strongly agree, agree, d...</td>\n",
       "      <td>defaultdict(&lt;class 'list'&gt;, {'Ethiopia': [0.07...</td>\n",
       "      <td>['Strongly agree', 'Agree', 'Disagree', 'Stron...</td>\n",
       "      <td>WVS</td>\n",
       "    </tr>\n",
       "    <tr>\n",
       "      <th>2205</th>\n",
       "      <td>Please tell us if you strongly agree, agree, d...</td>\n",
       "      <td>defaultdict(&lt;class 'list'&gt;, {'Ethiopia': [0.21...</td>\n",
       "      <td>['Strongly agree', 'Agree', 'Disagree', 'Stron...</td>\n",
       "      <td>WVS</td>\n",
       "    </tr>\n",
       "    <tr>\n",
       "      <th>2206</th>\n",
       "      <td>In your view, how often do the following thing...</td>\n",
       "      <td>defaultdict(&lt;class 'list'&gt;, {'Albania': [0.075...</td>\n",
       "      <td>['Very often', 'Fairly often', 'Not often', 'N...</td>\n",
       "      <td>WVS</td>\n",
       "    </tr>\n",
       "    <tr>\n",
       "      <th>2207</th>\n",
       "      <td>I am going to name a number of organizations. ...</td>\n",
       "      <td>defaultdict(&lt;class 'list'&gt;, {'Hong Kong SAR': ...</td>\n",
       "      <td>['A great deal', 'Quite a lot', 'Not very much...</td>\n",
       "      <td>WVS</td>\n",
       "    </tr>\n",
       "    <tr>\n",
       "      <th>...</th>\n",
       "      <td>...</td>\n",
       "      <td>...</td>\n",
       "      <td>...</td>\n",
       "      <td>...</td>\n",
       "    </tr>\n",
       "    <tr>\n",
       "      <th>2551</th>\n",
       "      <td>In which of the following things do you believ...</td>\n",
       "      <td>defaultdict(&lt;class 'list'&gt;, {'Albania': [0.539...</td>\n",
       "      <td>['Yes', 'No', \"Don't know\", 'No answer', 'Othe...</td>\n",
       "      <td>WVS</td>\n",
       "    </tr>\n",
       "    <tr>\n",
       "      <th>2552</th>\n",
       "      <td>How have your perceptions about religious valu...</td>\n",
       "      <td>defaultdict(&lt;class 'list'&gt;, {'Puerto Rico': [0...</td>\n",
       "      <td>['A lot', 'Fairly', 'Little', 'Nothing', 'No a...</td>\n",
       "      <td>WVS</td>\n",
       "    </tr>\n",
       "    <tr>\n",
       "      <th>2553</th>\n",
       "      <td>Do you agree, disagree or neither agree nor di...</td>\n",
       "      <td>defaultdict(&lt;class 'list'&gt;, {'Albania': [0.665...</td>\n",
       "      <td>['Agree', 'Disagree', 'Neither agree nor disag...</td>\n",
       "      <td>WVS</td>\n",
       "    </tr>\n",
       "    <tr>\n",
       "      <th>2554</th>\n",
       "      <td>Our society is well integrated</td>\n",
       "      <td>defaultdict(&lt;class 'list'&gt;, {'South Korea': [0...</td>\n",
       "      <td>['Not integrated at all', '2', '3', '4', '5', ...</td>\n",
       "      <td>WVS</td>\n",
       "    </tr>\n",
       "    <tr>\n",
       "      <th>2555</th>\n",
       "      <td>Here are two statements people sometimes make ...</td>\n",
       "      <td>defaultdict(&lt;class 'list'&gt;, {'Albania': [0.542...</td>\n",
       "      <td>['Protecting environment', 'Economy growth and...</td>\n",
       "      <td>WVS</td>\n",
       "    </tr>\n",
       "  </tbody>\n",
       "</table>\n",
       "<p>353 rows × 4 columns</p>\n",
       "</div>"
      ],
      "text/plain": [
       "                                               question  \\\n",
       "2203  How satisfied are you with the following?\\n\\nT...   \n",
       "2204  Please tell us if you strongly agree, agree, d...   \n",
       "2205  Please tell us if you strongly agree, agree, d...   \n",
       "2206  In your view, how often do the following thing...   \n",
       "2207  I am going to name a number of organizations. ...   \n",
       "...                                                 ...   \n",
       "2551  In which of the following things do you believ...   \n",
       "2552  How have your perceptions about religious valu...   \n",
       "2553  Do you agree, disagree or neither agree nor di...   \n",
       "2554                     Our society is well integrated   \n",
       "2555  Here are two statements people sometimes make ...   \n",
       "\n",
       "                                             selections  \\\n",
       "2203  defaultdict(<class 'list'>, {'Iraq': [0.288000...   \n",
       "2204  defaultdict(<class 'list'>, {'Ethiopia': [0.07...   \n",
       "2205  defaultdict(<class 'list'>, {'Ethiopia': [0.21...   \n",
       "2206  defaultdict(<class 'list'>, {'Albania': [0.075...   \n",
       "2207  defaultdict(<class 'list'>, {'Hong Kong SAR': ...   \n",
       "...                                                 ...   \n",
       "2551  defaultdict(<class 'list'>, {'Albania': [0.539...   \n",
       "2552  defaultdict(<class 'list'>, {'Puerto Rico': [0...   \n",
       "2553  defaultdict(<class 'list'>, {'Albania': [0.665...   \n",
       "2554  defaultdict(<class 'list'>, {'South Korea': [0...   \n",
       "2555  defaultdict(<class 'list'>, {'Albania': [0.542...   \n",
       "\n",
       "                                                options source  \n",
       "2203  ['Completely dissatisfied', 'Rather dissatisfi...    WVS  \n",
       "2204  ['Strongly agree', 'Agree', 'Disagree', 'Stron...    WVS  \n",
       "2205  ['Strongly agree', 'Agree', 'Disagree', 'Stron...    WVS  \n",
       "2206  ['Very often', 'Fairly often', 'Not often', 'N...    WVS  \n",
       "2207  ['A great deal', 'Quite a lot', 'Not very much...    WVS  \n",
       "...                                                 ...    ...  \n",
       "2551  ['Yes', 'No', \"Don't know\", 'No answer', 'Othe...    WVS  \n",
       "2552  ['A lot', 'Fairly', 'Little', 'Nothing', 'No a...    WVS  \n",
       "2553  ['Agree', 'Disagree', 'Neither agree nor disag...    WVS  \n",
       "2554  ['Not integrated at all', '2', '3', '4', '5', ...    WVS  \n",
       "2555  ['Protecting environment', 'Economy growth and...    WVS  \n",
       "\n",
       "[353 rows x 4 columns]"
      ]
     },
     "execution_count": 5,
     "metadata": {},
     "output_type": "execute_result"
    }
   ],
   "source": [
    "df_wvs"
   ]
  },
  {
   "attachments": {},
   "cell_type": "markdown",
   "metadata": {},
   "source": [
    "## Assign Sections"
   ]
  },
  {
   "cell_type": "code",
   "execution_count": 18,
   "metadata": {},
   "outputs": [],
   "source": [
    "with open(\"sections.txt\", mode=\"r\") as f:\n",
    "    num_sections_assigned = len(f.readlines())"
   ]
  },
  {
   "cell_type": "code",
   "execution_count": 19,
   "metadata": {},
   "outputs": [],
   "source": [
    "def find_index_greater_or_equal(nums, target):\n",
    "    for i in range(len(nums)):\n",
    "        num = nums[i]\n",
    "        if num >= target:\n",
    "            return i\n",
    "    return None"
   ]
  },
  {
   "cell_type": "code",
   "execution_count": 20,
   "metadata": {},
   "outputs": [
    {
     "name": "stdout",
     "output_type": "stream",
     "text": [
      "I ‘d like to ask you how much you trust people from various groups. Could you tell me for each whether you trust people from this group completely, somewhat, not very much or not at all?\n",
      "\n",
      "People you meet for the first time\n"
     ]
    },
    {
     "ename": "ValueError",
     "evalue": "invalid literal for int() with base 10: 'quit'",
     "output_type": "error",
     "traceback": [
      "\u001b[0;31m---------------------------------------------------------------------------\u001b[0m",
      "\u001b[0;31mValueError\u001b[0m                                Traceback (most recent call last)",
      "\u001b[0;32m<ipython-input-20-cf6b435184ec>\u001b[0m in \u001b[0;36m<module>\u001b[0;34m\u001b[0m\n\u001b[1;32m      5\u001b[0m \u001b[0;32mfor\u001b[0m \u001b[0mquestion\u001b[0m \u001b[0;32min\u001b[0m \u001b[0mquestions\u001b[0m\u001b[0;34m[\u001b[0m\u001b[0mnum_sections_assigned\u001b[0m\u001b[0;34m:\u001b[0m\u001b[0;34m]\u001b[0m\u001b[0;34m:\u001b[0m\u001b[0;34m\u001b[0m\u001b[0;34m\u001b[0m\u001b[0m\n\u001b[1;32m      6\u001b[0m     \u001b[0mprint\u001b[0m\u001b[0;34m(\u001b[0m\u001b[0mquestion\u001b[0m\u001b[0;34m)\u001b[0m\u001b[0;34m\u001b[0m\u001b[0;34m\u001b[0m\u001b[0m\n\u001b[0;32m----> 7\u001b[0;31m     \u001b[0mpage_number\u001b[0m \u001b[0;34m=\u001b[0m \u001b[0mint\u001b[0m\u001b[0;34m(\u001b[0m\u001b[0minput\u001b[0m\u001b[0;34m(\u001b[0m\u001b[0;34m)\u001b[0m\u001b[0;34m)\u001b[0m\u001b[0;34m\u001b[0m\u001b[0;34m\u001b[0m\u001b[0m\n\u001b[0m\u001b[1;32m      8\u001b[0m     \u001b[0msection\u001b[0m \u001b[0;34m=\u001b[0m \u001b[0mfind_index_greater_or_equal\u001b[0m\u001b[0;34m(\u001b[0m\u001b[0msection_pages\u001b[0m\u001b[0;34m,\u001b[0m \u001b[0mpage_number\u001b[0m\u001b[0;34m)\u001b[0m\u001b[0;34m\u001b[0m\u001b[0;34m\u001b[0m\u001b[0m\n\u001b[1;32m      9\u001b[0m \u001b[0;34m\u001b[0m\u001b[0m\n",
      "\u001b[0;31mValueError\u001b[0m: invalid literal for int() with base 10: 'quit'"
     ]
    }
   ],
   "source": [
    "questions = df_wvs[\"question\"].to_list()\n",
    "section_pages = [9, 19, 22, 37, 39, 42, 44, 48, 50, 53, 56, 64, 73, 81, 90]\n",
    "sections = list()\n",
    "\n",
    "for question in questions[num_sections_assigned:]:\n",
    "    print(question)\n",
    "    page_number = int(input())\n",
    "    section = find_index_greater_or_equal(section_pages, page_number)\n",
    "\n",
    "    if section == \"quit\":\n",
    "        break\n",
    "    else:\n",
    "        sections.append(section)\n",
    "        \n",
    "    clear_output()"
   ]
  },
  {
   "cell_type": "code",
   "execution_count": 21,
   "metadata": {},
   "outputs": [
    {
     "name": "stdout",
     "output_type": "stream",
     "text": [
      "1\n"
     ]
    }
   ],
   "source": [
    "print(len(sections))\n",
    "\n",
    "with open(\"sections.txt\", mode=\"a\") as f:\n",
    "    for section in sections:\n",
    "        f.write(f\"{section}\\n\")"
   ]
  },
  {
   "cell_type": "code",
   "execution_count": null,
   "metadata": {},
   "outputs": [],
   "source": []
  }
 ],
 "metadata": {
  "kernelspec": {
   "display_name": ".venv",
   "language": "python",
   "name": "python3"
  },
  "language_info": {
   "codemirror_mode": {
    "name": "ipython",
    "version": 3
   },
   "file_extension": ".py",
   "mimetype": "text/x-python",
   "name": "python",
   "nbconvert_exporter": "python",
   "pygments_lexer": "ipython3",
   "version": "3.6.8"
  },
  "orig_nbformat": 4
 },
 "nbformat": 4,
 "nbformat_minor": 2
}
